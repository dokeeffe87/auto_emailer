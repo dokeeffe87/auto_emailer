{
 "cells": [
  {
   "cell_type": "markdown",
   "id": "neutral-cookie",
   "metadata": {},
   "source": [
    "Notebook for some scratch work"
   ]
  },
  {
   "cell_type": "code",
   "execution_count": 22,
   "id": "conventional-monitoring",
   "metadata": {},
   "outputs": [],
   "source": [
    "import os\n",
    "import sys\n",
    "from configparser import ConfigParser\n",
    "from email.mime.text import MIMEText\n",
    "from email.mime.image import MIMEImage\n",
    "from email.mime.application import MIMEApplication\n",
    "from email.mime.multipart import MIMEMultipart\n",
    "import smtplib"
   ]
  },
  {
   "cell_type": "code",
   "execution_count": 23,
   "id": "corrected-plasma",
   "metadata": {},
   "outputs": [],
   "source": [
    "config_path = \"../../data/config.ini\"\n",
    "parser = ConfigParser()\n",
    "parser.read(config_path)\n",
    "email_address = parser.get('inspector', 'email_address')\n",
    "password = parser.get('inspector', 'password')\n",
    "port = parser.get('inspector', 'port')"
   ]
  },
  {
   "cell_type": "code",
   "execution_count": 24,
   "id": "brief-launch",
   "metadata": {},
   "outputs": [
    {
     "data": {
      "text/plain": [
       "'prophet.of.inspection@gmail.com'"
      ]
     },
     "execution_count": 24,
     "metadata": {},
     "output_type": "execute_result"
    }
   ],
   "source": [
    "email_address"
   ]
  },
  {
   "cell_type": "code",
   "execution_count": 25,
   "id": "instant-knock",
   "metadata": {},
   "outputs": [
    {
     "data": {
      "text/plain": [
       "'Eequalsmc2'"
      ]
     },
     "execution_count": 25,
     "metadata": {},
     "output_type": "execute_result"
    }
   ],
   "source": [
    "password"
   ]
  },
  {
   "cell_type": "code",
   "execution_count": 26,
   "id": "closing-waste",
   "metadata": {},
   "outputs": [],
   "source": [
    "# Try a simple test message"
   ]
  },
  {
   "cell_type": "code",
   "execution_count": 27,
   "id": "indian-compact",
   "metadata": {},
   "outputs": [],
   "source": [
    "message = u\"\"\"EAT IT! EAT IT GOOD!\\n\\n\\nemail auto-generated using latest inspector-tech\\u2122 application\"\"\""
   ]
  },
  {
   "cell_type": "code",
   "execution_count": 28,
   "id": "macro-protocol",
   "metadata": {},
   "outputs": [
    {
     "name": "stdout",
     "output_type": "stream",
     "text": [
      "EAT IT! EAT IT GOOD!\n",
      "\n",
      "\n",
      "email auto-generated using latest inspector-tech™ application\n"
     ]
    }
   ],
   "source": [
    "print(message)"
   ]
  },
  {
   "cell_type": "code",
   "execution_count": 29,
   "id": "valued-emergency",
   "metadata": {},
   "outputs": [],
   "source": [
    "msg = MIMEMultipart()"
   ]
  },
  {
   "cell_type": "code",
   "execution_count": 38,
   "id": "illegal-lobby",
   "metadata": {},
   "outputs": [
    {
     "data": {
      "text/plain": [
       "['Content-Type', 'MIME-Version', 'Subject']"
      ]
     },
     "execution_count": 38,
     "metadata": {},
     "output_type": "execute_result"
    }
   ],
   "source": [
    "msg.keys()"
   ]
  },
  {
   "cell_type": "code",
   "execution_count": 30,
   "id": "empty-myanmar",
   "metadata": {},
   "outputs": [],
   "source": [
    "msg['Subject'] = 'ATTENTION: EAT IT'"
   ]
  },
  {
   "cell_type": "code",
   "execution_count": 31,
   "id": "rolled-baking",
   "metadata": {},
   "outputs": [],
   "source": [
    "msg.attach(MIMEText(message))"
   ]
  },
  {
   "cell_type": "code",
   "execution_count": 40,
   "id": "apart-sympathy",
   "metadata": {},
   "outputs": [],
   "source": [
    "smtp = smtplib.SMTP('smtp.gmail.com', port=port)"
   ]
  },
  {
   "cell_type": "code",
   "execution_count": 41,
   "id": "absent-suffering",
   "metadata": {},
   "outputs": [],
   "source": [
    "hello_ = smtp.ehlo()"
   ]
  },
  {
   "cell_type": "code",
   "execution_count": 42,
   "id": "pleasant-focus",
   "metadata": {},
   "outputs": [
    {
     "data": {
      "text/plain": [
       "250"
      ]
     },
     "execution_count": 42,
     "metadata": {},
     "output_type": "execute_result"
    }
   ],
   "source": [
    "hello_[0]"
   ]
  },
  {
   "cell_type": "code",
   "execution_count": 51,
   "id": "human-documentation",
   "metadata": {},
   "outputs": [
    {
     "data": {
      "text/plain": [
       "'smtp.gmail.com at your service'"
      ]
     },
     "execution_count": 51,
     "metadata": {},
     "output_type": "execute_result"
    }
   ],
   "source": [
    "str(hello_[1]).split(',')[0].strip(\"\"\"b'\"\"\")"
   ]
  },
  {
   "cell_type": "code",
   "execution_count": 56,
   "id": "surgical-ratio",
   "metadata": {},
   "outputs": [
    {
     "data": {
      "text/plain": [
       "'24.184.89.23'"
      ]
     },
     "execution_count": 56,
     "metadata": {},
     "output_type": "execute_result"
    }
   ],
   "source": [
    "str(hello_[1]).split(',')[1].strip().strip('[').split(']')[0]"
   ]
  },
  {
   "cell_type": "code",
   "execution_count": 57,
   "id": "young-cocktail",
   "metadata": {},
   "outputs": [],
   "source": [
    "tls_ = smtp.starttls()"
   ]
  },
  {
   "cell_type": "code",
   "execution_count": 60,
   "id": "later-rouge",
   "metadata": {},
   "outputs": [
    {
     "data": {
      "text/plain": [
       "'2.0.0 Ready to start TLS'"
      ]
     },
     "execution_count": 60,
     "metadata": {},
     "output_type": "execute_result"
    }
   ],
   "source": [
    "str(tls_[1]).strip(\"\"\"b'\"\"\")"
   ]
  },
  {
   "cell_type": "code",
   "execution_count": 35,
   "id": "registered-angola",
   "metadata": {},
   "outputs": [
    {
     "data": {
      "text/plain": [
       "(235, b'2.7.0 Accepted')"
      ]
     },
     "execution_count": 35,
     "metadata": {},
     "output_type": "execute_result"
    }
   ],
   "source": [
    "smtp.login('prophet.of.inspection@gmail.com', 'Eequalsmc2', )"
   ]
  },
  {
   "cell_type": "code",
   "execution_count": 36,
   "id": "awful-citizenship",
   "metadata": {},
   "outputs": [
    {
     "data": {
      "text/plain": [
       "{}"
      ]
     },
     "execution_count": 36,
     "metadata": {},
     "output_type": "execute_result"
    }
   ],
   "source": [
    "smtp.sendmail(from_addr='prophet.of.inspection@gmail.com',to_addrs='mary.vanakin@gmail.com', msg=msg.as_string())"
   ]
  },
  {
   "cell_type": "code",
   "execution_count": 37,
   "id": "operating-nature",
   "metadata": {},
   "outputs": [
    {
     "data": {
      "text/plain": [
       "(221, b'2.0.0 closing connection d6sm416895qtq.15 - gsmtp')"
      ]
     },
     "execution_count": 37,
     "metadata": {},
     "output_type": "execute_result"
    }
   ],
   "source": [
    "smtp.quit()"
   ]
  },
  {
   "cell_type": "code",
   "execution_count": null,
   "id": "compact-audio",
   "metadata": {},
   "outputs": [],
   "source": []
  }
 ],
 "metadata": {
  "kernelspec": {
   "display_name": "Python [conda env:pygame_env]",
   "language": "python",
   "name": "conda-env-pygame_env-py"
  },
  "language_info": {
   "codemirror_mode": {
    "name": "ipython",
    "version": 3
   },
   "file_extension": ".py",
   "mimetype": "text/x-python",
   "name": "python",
   "nbconvert_exporter": "python",
   "pygments_lexer": "ipython3",
   "version": "3.7.9"
  }
 },
 "nbformat": 4,
 "nbformat_minor": 5
}
