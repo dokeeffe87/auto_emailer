{
 "cells": [
  {
   "cell_type": "markdown",
   "id": "welsh-defendant",
   "metadata": {},
   "source": [
    "test image manipulation"
   ]
  },
  {
   "cell_type": "code",
   "execution_count": 1,
   "id": "hearing-rwanda",
   "metadata": {},
   "outputs": [],
   "source": [
    "import cv2"
   ]
  },
  {
   "cell_type": "code",
   "execution_count": null,
   "id": "lasting-lover",
   "metadata": {},
   "outputs": [],
   "source": [
    "cv2.putText()"
   ]
  },
  {
   "cell_type": "code",
   "execution_count": 11,
   "id": "floppy-father",
   "metadata": {},
   "outputs": [],
   "source": [
    "path_ = '../../data/video/zoom_0.mp4'"
   ]
  },
  {
   "cell_type": "code",
   "execution_count": 12,
   "id": "naughty-twins",
   "metadata": {},
   "outputs": [],
   "source": [
    "video_capture = cv2.VideoCapture(path_)"
   ]
  },
  {
   "cell_type": "code",
   "execution_count": 13,
   "id": "pending-allocation",
   "metadata": {},
   "outputs": [],
   "source": [
    "still_reading, image = video_capture.read()"
   ]
  },
  {
   "cell_type": "code",
   "execution_count": 14,
   "id": "precise-watershed",
   "metadata": {},
   "outputs": [],
   "source": [
    "frame_count = 0\n",
    "while still_reading:\n",
    "    cv2.imwrite('../../data/output/frame_{0}.jpg'.format(frame_count), image)\n",
    "    still_reading, image = video_capture.read()\n",
    "    frame_count += 1"
   ]
  },
  {
   "cell_type": "code",
   "execution_count": 15,
   "id": "headed-google",
   "metadata": {},
   "outputs": [],
   "source": [
    "import glob"
   ]
  },
  {
   "cell_type": "code",
   "execution_count": 16,
   "id": "ruled-spending",
   "metadata": {},
   "outputs": [],
   "source": [
    "from PIL import Image"
   ]
  },
  {
   "cell_type": "code",
   "execution_count": 35,
   "id": "closing-organic",
   "metadata": {},
   "outputs": [],
   "source": [
    "images = glob.glob('../../data/eat_it_frames/*.jpg')"
   ]
  },
  {
   "cell_type": "code",
   "execution_count": 36,
   "id": "vital-bullet",
   "metadata": {},
   "outputs": [],
   "source": [
    "# images.sort()"
   ]
  },
  {
   "cell_type": "code",
   "execution_count": 46,
   "id": "another-august",
   "metadata": {},
   "outputs": [],
   "source": [
    "test_ = '../../data/eat_it_frames/frame_100.jpg'"
   ]
  },
  {
   "cell_type": "code",
   "execution_count": 49,
   "id": "proprietary-tenant",
   "metadata": {},
   "outputs": [
    {
     "data": {
      "text/plain": [
       "'100'"
      ]
     },
     "execution_count": 49,
     "metadata": {},
     "output_type": "execute_result"
    }
   ],
   "source": [
    "test_.strip('.jpg').split('frame_')[-1]"
   ]
  },
  {
   "cell_type": "code",
   "execution_count": 52,
   "id": "warming-renaissance",
   "metadata": {},
   "outputs": [],
   "source": [
    "images = sorted(images, key=lambda x: int(x.strip('.jpg').split('frame_')[-1]))"
   ]
  },
  {
   "cell_type": "code",
   "execution_count": 53,
   "id": "interior-climate",
   "metadata": {
    "scrolled": true
   },
   "outputs": [
    {
     "data": {
      "text/plain": [
       "['../../data/eat_it_frames/frame_94.jpg',\n",
       " '../../data/eat_it_frames/frame_95.jpg',\n",
       " '../../data/eat_it_frames/frame_96.jpg',\n",
       " '../../data/eat_it_frames/frame_97.jpg',\n",
       " '../../data/eat_it_frames/frame_98.jpg',\n",
       " '../../data/eat_it_frames/frame_99.jpg',\n",
       " '../../data/eat_it_frames/frame_100.jpg',\n",
       " '../../data/eat_it_frames/frame_101.jpg',\n",
       " '../../data/eat_it_frames/frame_102.jpg',\n",
       " '../../data/eat_it_frames/frame_103.jpg',\n",
       " '../../data/eat_it_frames/frame_104.jpg',\n",
       " '../../data/eat_it_frames/frame_105.jpg',\n",
       " '../../data/eat_it_frames/frame_106.jpg',\n",
       " '../../data/eat_it_frames/frame_107.jpg',\n",
       " '../../data/eat_it_frames/frame_108.jpg',\n",
       " '../../data/eat_it_frames/frame_109.jpg',\n",
       " '../../data/eat_it_frames/frame_110.jpg',\n",
       " '../../data/eat_it_frames/frame_111.jpg',\n",
       " '../../data/eat_it_frames/frame_112.jpg',\n",
       " '../../data/eat_it_frames/frame_113.jpg',\n",
       " '../../data/eat_it_frames/frame_114.jpg',\n",
       " '../../data/eat_it_frames/frame_115.jpg',\n",
       " '../../data/eat_it_frames/frame_116.jpg',\n",
       " '../../data/eat_it_frames/frame_117.jpg',\n",
       " '../../data/eat_it_frames/frame_118.jpg',\n",
       " '../../data/eat_it_frames/frame_119.jpg',\n",
       " '../../data/eat_it_frames/frame_120.jpg',\n",
       " '../../data/eat_it_frames/frame_121.jpg',\n",
       " '../../data/eat_it_frames/frame_122.jpg',\n",
       " '../../data/eat_it_frames/frame_123.jpg',\n",
       " '../../data/eat_it_frames/frame_124.jpg',\n",
       " '../../data/eat_it_frames/frame_125.jpg',\n",
       " '../../data/eat_it_frames/frame_126.jpg',\n",
       " '../../data/eat_it_frames/frame_127.jpg',\n",
       " '../../data/eat_it_frames/frame_128.jpg',\n",
       " '../../data/eat_it_frames/frame_129.jpg',\n",
       " '../../data/eat_it_frames/frame_130.jpg',\n",
       " '../../data/eat_it_frames/frame_131.jpg',\n",
       " '../../data/eat_it_frames/frame_132.jpg',\n",
       " '../../data/eat_it_frames/frame_133.jpg',\n",
       " '../../data/eat_it_frames/frame_134.jpg',\n",
       " '../../data/eat_it_frames/frame_135.jpg',\n",
       " '../../data/eat_it_frames/frame_136.jpg',\n",
       " '../../data/eat_it_frames/frame_137.jpg',\n",
       " '../../data/eat_it_frames/frame_138.jpg',\n",
       " '../../data/eat_it_frames/frame_139.jpg',\n",
       " '../../data/eat_it_frames/frame_140.jpg',\n",
       " '../../data/eat_it_frames/frame_141.jpg',\n",
       " '../../data/eat_it_frames/frame_142.jpg',\n",
       " '../../data/eat_it_frames/frame_143.jpg',\n",
       " '../../data/eat_it_frames/frame_144.jpg',\n",
       " '../../data/eat_it_frames/frame_145.jpg',\n",
       " '../../data/eat_it_frames/frame_146.jpg',\n",
       " '../../data/eat_it_frames/frame_147.jpg',\n",
       " '../../data/eat_it_frames/frame_148.jpg',\n",
       " '../../data/eat_it_frames/frame_149.jpg',\n",
       " '../../data/eat_it_frames/frame_150.jpg',\n",
       " '../../data/eat_it_frames/frame_151.jpg']"
      ]
     },
     "execution_count": 53,
     "metadata": {},
     "output_type": "execute_result"
    }
   ],
   "source": [
    "images"
   ]
  },
  {
   "cell_type": "code",
   "execution_count": 54,
   "id": "surgical-bacon",
   "metadata": {},
   "outputs": [],
   "source": [
    "frames = [Image.open(image) for image in images]"
   ]
  },
  {
   "cell_type": "code",
   "execution_count": 55,
   "id": "contrary-second",
   "metadata": {},
   "outputs": [],
   "source": [
    "frame_one = frames[0]"
   ]
  },
  {
   "cell_type": "code",
   "execution_count": 57,
   "id": "requested-image",
   "metadata": {},
   "outputs": [],
   "source": [
    "frame_one.save(\"../../data/eat_it_gif/test_gif.gif\", format=\"GIF\", append_images=frames, save_all=True, duration=60, loop=0)"
   ]
  },
  {
   "cell_type": "code",
   "execution_count": 29,
   "id": "continuing-turning",
   "metadata": {},
   "outputs": [],
   "source": [
    "# Ok now let's add some text.  What are the appropriate frames? "
   ]
  },
  {
   "cell_type": "code",
   "execution_count": 30,
   "id": "complete-programmer",
   "metadata": {},
   "outputs": [],
   "source": [
    "# 134 to the end for GOOD\n",
    "# 97 to 106 for eat it\n",
    "# 115 to 133 for more eat it"
   ]
  },
  {
   "cell_type": "code",
   "execution_count": 31,
   "id": "noticed-audio",
   "metadata": {},
   "outputs": [],
   "source": [
    "from PIL import ImageFont, ImageDraw"
   ]
  },
  {
   "cell_type": "code",
   "execution_count": 106,
   "id": "distinct-restaurant",
   "metadata": {},
   "outputs": [],
   "source": [
    "images = glob.glob('../../data/eat_it_text_frames/*.jpg')"
   ]
  },
  {
   "cell_type": "code",
   "execution_count": 107,
   "id": "valid-house",
   "metadata": {},
   "outputs": [],
   "source": [
    "images = sorted(images, key=lambda x: int(x.strip('.jpg').split('frame_')[-1]))"
   ]
  },
  {
   "cell_type": "code",
   "execution_count": 108,
   "id": "exciting-debut",
   "metadata": {
    "scrolled": true
   },
   "outputs": [
    {
     "data": {
      "text/plain": [
       "['../../data/eat_it_text_frames/frame_94.jpg',\n",
       " '../../data/eat_it_text_frames/frame_95.jpg',\n",
       " '../../data/eat_it_text_frames/frame_96.jpg',\n",
       " '../../data/eat_it_text_frames/frame_97.jpg',\n",
       " '../../data/eat_it_text_frames/frame_98.jpg',\n",
       " '../../data/eat_it_text_frames/frame_99.jpg',\n",
       " '../../data/eat_it_text_frames/frame_100.jpg',\n",
       " '../../data/eat_it_text_frames/frame_101.jpg',\n",
       " '../../data/eat_it_text_frames/frame_102.jpg',\n",
       " '../../data/eat_it_text_frames/frame_103.jpg',\n",
       " '../../data/eat_it_text_frames/frame_104.jpg',\n",
       " '../../data/eat_it_text_frames/frame_105.jpg',\n",
       " '../../data/eat_it_text_frames/frame_106.jpg',\n",
       " '../../data/eat_it_text_frames/frame_107.jpg',\n",
       " '../../data/eat_it_text_frames/frame_108.jpg',\n",
       " '../../data/eat_it_text_frames/frame_109.jpg',\n",
       " '../../data/eat_it_text_frames/frame_110.jpg',\n",
       " '../../data/eat_it_text_frames/frame_111.jpg',\n",
       " '../../data/eat_it_text_frames/frame_112.jpg',\n",
       " '../../data/eat_it_text_frames/frame_113.jpg',\n",
       " '../../data/eat_it_text_frames/frame_114.jpg',\n",
       " '../../data/eat_it_text_frames/frame_115.jpg',\n",
       " '../../data/eat_it_text_frames/frame_116.jpg',\n",
       " '../../data/eat_it_text_frames/frame_117.jpg',\n",
       " '../../data/eat_it_text_frames/frame_118.jpg',\n",
       " '../../data/eat_it_text_frames/frame_119.jpg',\n",
       " '../../data/eat_it_text_frames/frame_120.jpg',\n",
       " '../../data/eat_it_text_frames/frame_121.jpg',\n",
       " '../../data/eat_it_text_frames/frame_122.jpg',\n",
       " '../../data/eat_it_text_frames/frame_123.jpg',\n",
       " '../../data/eat_it_text_frames/frame_124.jpg',\n",
       " '../../data/eat_it_text_frames/frame_125.jpg',\n",
       " '../../data/eat_it_text_frames/frame_126.jpg',\n",
       " '../../data/eat_it_text_frames/frame_127.jpg',\n",
       " '../../data/eat_it_text_frames/frame_128.jpg',\n",
       " '../../data/eat_it_text_frames/frame_129.jpg',\n",
       " '../../data/eat_it_text_frames/frame_130.jpg',\n",
       " '../../data/eat_it_text_frames/frame_131.jpg',\n",
       " '../../data/eat_it_text_frames/frame_132.jpg',\n",
       " '../../data/eat_it_text_frames/frame_133.jpg',\n",
       " '../../data/eat_it_text_frames/frame_134.jpg',\n",
       " '../../data/eat_it_text_frames/frame_135.jpg',\n",
       " '../../data/eat_it_text_frames/frame_136.jpg',\n",
       " '../../data/eat_it_text_frames/frame_137.jpg',\n",
       " '../../data/eat_it_text_frames/frame_138.jpg',\n",
       " '../../data/eat_it_text_frames/frame_139.jpg',\n",
       " '../../data/eat_it_text_frames/frame_140.jpg',\n",
       " '../../data/eat_it_text_frames/frame_141.jpg',\n",
       " '../../data/eat_it_text_frames/frame_142.jpg',\n",
       " '../../data/eat_it_text_frames/frame_143.jpg',\n",
       " '../../data/eat_it_text_frames/frame_144.jpg',\n",
       " '../../data/eat_it_text_frames/frame_145.jpg',\n",
       " '../../data/eat_it_text_frames/frame_146.jpg',\n",
       " '../../data/eat_it_text_frames/frame_147.jpg',\n",
       " '../../data/eat_it_text_frames/frame_148.jpg',\n",
       " '../../data/eat_it_text_frames/frame_149.jpg',\n",
       " '../../data/eat_it_text_frames/frame_150.jpg',\n",
       " '../../data/eat_it_text_frames/frame_151.jpg']"
      ]
     },
     "execution_count": 108,
     "metadata": {},
     "output_type": "execute_result"
    }
   ],
   "source": [
    "images"
   ]
  },
  {
   "cell_type": "code",
   "execution_count": 109,
   "id": "phantom-balance",
   "metadata": {},
   "outputs": [],
   "source": [
    "images_for_first_text = images[3:13]"
   ]
  },
  {
   "cell_type": "code",
   "execution_count": 110,
   "id": "heated-washer",
   "metadata": {},
   "outputs": [],
   "source": [
    "images_for_second_text = images[21:40]"
   ]
  },
  {
   "cell_type": "code",
   "execution_count": 111,
   "id": "pediatric-astrology",
   "metadata": {},
   "outputs": [],
   "source": [
    "images_for_third_text = images[40::]"
   ]
  },
  {
   "cell_type": "code",
   "execution_count": 112,
   "id": "logical-royal",
   "metadata": {},
   "outputs": [
    {
     "data": {
      "text/plain": [
       "['../../data/eat_it_text_frames/frame_134.jpg',\n",
       " '../../data/eat_it_text_frames/frame_135.jpg',\n",
       " '../../data/eat_it_text_frames/frame_136.jpg',\n",
       " '../../data/eat_it_text_frames/frame_137.jpg',\n",
       " '../../data/eat_it_text_frames/frame_138.jpg',\n",
       " '../../data/eat_it_text_frames/frame_139.jpg',\n",
       " '../../data/eat_it_text_frames/frame_140.jpg',\n",
       " '../../data/eat_it_text_frames/frame_141.jpg',\n",
       " '../../data/eat_it_text_frames/frame_142.jpg',\n",
       " '../../data/eat_it_text_frames/frame_143.jpg',\n",
       " '../../data/eat_it_text_frames/frame_144.jpg',\n",
       " '../../data/eat_it_text_frames/frame_145.jpg',\n",
       " '../../data/eat_it_text_frames/frame_146.jpg',\n",
       " '../../data/eat_it_text_frames/frame_147.jpg',\n",
       " '../../data/eat_it_text_frames/frame_148.jpg',\n",
       " '../../data/eat_it_text_frames/frame_149.jpg',\n",
       " '../../data/eat_it_text_frames/frame_150.jpg',\n",
       " '../../data/eat_it_text_frames/frame_151.jpg']"
      ]
     },
     "execution_count": 112,
     "metadata": {},
     "output_type": "execute_result"
    }
   ],
   "source": [
    "images_for_third_text"
   ]
  },
  {
   "cell_type": "code",
   "execution_count": 113,
   "id": "right-forge",
   "metadata": {},
   "outputs": [],
   "source": [
    "remainder_images = [x for x in images if x not in images_for_first_text + images_for_second_text + images_for_third_text]"
   ]
  },
  {
   "cell_type": "code",
   "execution_count": 114,
   "id": "lesbian-ready",
   "metadata": {},
   "outputs": [
    {
     "data": {
      "text/plain": [
       "['../../data/eat_it_text_frames/frame_94.jpg',\n",
       " '../../data/eat_it_text_frames/frame_95.jpg',\n",
       " '../../data/eat_it_text_frames/frame_96.jpg',\n",
       " '../../data/eat_it_text_frames/frame_107.jpg',\n",
       " '../../data/eat_it_text_frames/frame_108.jpg',\n",
       " '../../data/eat_it_text_frames/frame_109.jpg',\n",
       " '../../data/eat_it_text_frames/frame_110.jpg',\n",
       " '../../data/eat_it_text_frames/frame_111.jpg',\n",
       " '../../data/eat_it_text_frames/frame_112.jpg',\n",
       " '../../data/eat_it_text_frames/frame_113.jpg',\n",
       " '../../data/eat_it_text_frames/frame_114.jpg']"
      ]
     },
     "execution_count": 114,
     "metadata": {},
     "output_type": "execute_result"
    }
   ],
   "source": [
    "remainder_images"
   ]
  },
  {
   "cell_type": "code",
   "execution_count": 115,
   "id": "continuous-richards",
   "metadata": {},
   "outputs": [],
   "source": [
    "first_text = 'eat it'\n",
    "second_text = 'eat it'\n",
    "third_text = 'GOOD!!!!'"
   ]
  },
  {
   "cell_type": "code",
   "execution_count": 116,
   "id": "indian-partnership",
   "metadata": {},
   "outputs": [],
   "source": [
    "title_font = ImageFont.truetype('/Library/Fonts/Arial.ttf', 200)"
   ]
  },
  {
   "cell_type": "code",
   "execution_count": 117,
   "id": "liked-fleece",
   "metadata": {},
   "outputs": [],
   "source": [
    "for img_name in images_for_first_text:\n",
    "    img_ = Image.open(img_name)\n",
    "    image_editable = ImageDraw.Draw(img_)\n",
    "    image_editable.text((400, 450), first_text, (237, 230, 211), font=title_font)\n",
    "    new_path = '../../data/eat_it_text_frames/with_text/' + img_name.split('/')[-1]\n",
    "    img_.save(new_path)"
   ]
  },
  {
   "cell_type": "code",
   "execution_count": 118,
   "id": "located-essay",
   "metadata": {},
   "outputs": [],
   "source": [
    "for img_name in images_for_second_text:\n",
    "    img_ = Image.open(img_name)\n",
    "    image_editable = ImageDraw.Draw(img_)\n",
    "    image_editable.text((400, 450), second_text, (237, 230, 211), font=title_font)\n",
    "    new_path = '../../data/eat_it_text_frames/with_text/' + img_name.split('/')[-1]\n",
    "    img_.save(new_path)"
   ]
  },
  {
   "cell_type": "code",
   "execution_count": 119,
   "id": "confirmed-leisure",
   "metadata": {},
   "outputs": [],
   "source": [
    "for img_name in images_for_third_text:\n",
    "    img_ = Image.open(img_name)\n",
    "    image_editable = ImageDraw.Draw(img_)\n",
    "    image_editable.text((300, 450), third_text, (237, 230, 211), font=title_font)\n",
    "    new_path = '../../data/eat_it_text_frames/with_text/' + img_name.split('/')[-1]\n",
    "    img_.save(new_path)"
   ]
  },
  {
   "cell_type": "code",
   "execution_count": 120,
   "id": "digital-argentina",
   "metadata": {},
   "outputs": [],
   "source": [
    "for img_name in remainder_images:\n",
    "    img_ = Image.open(img_name)\n",
    "    new_path = '../../data/eat_it_text_frames/with_text/' + img_name.split('/')[-1]\n",
    "    img_.save(new_path)"
   ]
  },
  {
   "cell_type": "code",
   "execution_count": 121,
   "id": "southern-spell",
   "metadata": {},
   "outputs": [],
   "source": [
    "# Ok now make the gif. This is really inefficient, but fine for now"
   ]
  },
  {
   "cell_type": "code",
   "execution_count": 128,
   "id": "relative-valley",
   "metadata": {},
   "outputs": [],
   "source": [
    "images = glob.glob('../../data/eat_it_text_frames/with_text/*.jpg')"
   ]
  },
  {
   "cell_type": "code",
   "execution_count": 129,
   "id": "blocked-shareware",
   "metadata": {},
   "outputs": [],
   "source": [
    "images = sorted(images, key=lambda x: int(x.strip('.jpg').split('frame_')[-1]))"
   ]
  },
  {
   "cell_type": "code",
   "execution_count": 130,
   "id": "forward-stewart",
   "metadata": {
    "scrolled": true
   },
   "outputs": [
    {
     "data": {
      "text/plain": [
       "['../../data/eat_it_text_frames/with_text/frame_94.jpg',\n",
       " '../../data/eat_it_text_frames/with_text/frame_95.jpg',\n",
       " '../../data/eat_it_text_frames/with_text/frame_96.jpg',\n",
       " '../../data/eat_it_text_frames/with_text/frame_97.jpg',\n",
       " '../../data/eat_it_text_frames/with_text/frame_98.jpg',\n",
       " '../../data/eat_it_text_frames/with_text/frame_99.jpg',\n",
       " '../../data/eat_it_text_frames/with_text/frame_100.jpg',\n",
       " '../../data/eat_it_text_frames/with_text/frame_101.jpg',\n",
       " '../../data/eat_it_text_frames/with_text/frame_102.jpg',\n",
       " '../../data/eat_it_text_frames/with_text/frame_103.jpg',\n",
       " '../../data/eat_it_text_frames/with_text/frame_104.jpg',\n",
       " '../../data/eat_it_text_frames/with_text/frame_105.jpg',\n",
       " '../../data/eat_it_text_frames/with_text/frame_106.jpg',\n",
       " '../../data/eat_it_text_frames/with_text/frame_107.jpg',\n",
       " '../../data/eat_it_text_frames/with_text/frame_108.jpg',\n",
       " '../../data/eat_it_text_frames/with_text/frame_109.jpg',\n",
       " '../../data/eat_it_text_frames/with_text/frame_110.jpg',\n",
       " '../../data/eat_it_text_frames/with_text/frame_111.jpg',\n",
       " '../../data/eat_it_text_frames/with_text/frame_112.jpg',\n",
       " '../../data/eat_it_text_frames/with_text/frame_113.jpg',\n",
       " '../../data/eat_it_text_frames/with_text/frame_114.jpg',\n",
       " '../../data/eat_it_text_frames/with_text/frame_115.jpg',\n",
       " '../../data/eat_it_text_frames/with_text/frame_116.jpg',\n",
       " '../../data/eat_it_text_frames/with_text/frame_117.jpg',\n",
       " '../../data/eat_it_text_frames/with_text/frame_118.jpg',\n",
       " '../../data/eat_it_text_frames/with_text/frame_119.jpg',\n",
       " '../../data/eat_it_text_frames/with_text/frame_120.jpg',\n",
       " '../../data/eat_it_text_frames/with_text/frame_121.jpg',\n",
       " '../../data/eat_it_text_frames/with_text/frame_122.jpg',\n",
       " '../../data/eat_it_text_frames/with_text/frame_123.jpg',\n",
       " '../../data/eat_it_text_frames/with_text/frame_124.jpg',\n",
       " '../../data/eat_it_text_frames/with_text/frame_125.jpg',\n",
       " '../../data/eat_it_text_frames/with_text/frame_126.jpg',\n",
       " '../../data/eat_it_text_frames/with_text/frame_127.jpg',\n",
       " '../../data/eat_it_text_frames/with_text/frame_128.jpg',\n",
       " '../../data/eat_it_text_frames/with_text/frame_129.jpg',\n",
       " '../../data/eat_it_text_frames/with_text/frame_130.jpg',\n",
       " '../../data/eat_it_text_frames/with_text/frame_131.jpg',\n",
       " '../../data/eat_it_text_frames/with_text/frame_132.jpg',\n",
       " '../../data/eat_it_text_frames/with_text/frame_133.jpg',\n",
       " '../../data/eat_it_text_frames/with_text/frame_134.jpg',\n",
       " '../../data/eat_it_text_frames/with_text/frame_135.jpg',\n",
       " '../../data/eat_it_text_frames/with_text/frame_136.jpg',\n",
       " '../../data/eat_it_text_frames/with_text/frame_137.jpg',\n",
       " '../../data/eat_it_text_frames/with_text/frame_138.jpg',\n",
       " '../../data/eat_it_text_frames/with_text/frame_139.jpg',\n",
       " '../../data/eat_it_text_frames/with_text/frame_140.jpg',\n",
       " '../../data/eat_it_text_frames/with_text/frame_141.jpg',\n",
       " '../../data/eat_it_text_frames/with_text/frame_142.jpg',\n",
       " '../../data/eat_it_text_frames/with_text/frame_143.jpg',\n",
       " '../../data/eat_it_text_frames/with_text/frame_144.jpg',\n",
       " '../../data/eat_it_text_frames/with_text/frame_145.jpg',\n",
       " '../../data/eat_it_text_frames/with_text/frame_146.jpg',\n",
       " '../../data/eat_it_text_frames/with_text/frame_147.jpg',\n",
       " '../../data/eat_it_text_frames/with_text/frame_148.jpg',\n",
       " '../../data/eat_it_text_frames/with_text/frame_149.jpg',\n",
       " '../../data/eat_it_text_frames/with_text/frame_150.jpg',\n",
       " '../../data/eat_it_text_frames/with_text/frame_151.jpg']"
      ]
     },
     "execution_count": 130,
     "metadata": {},
     "output_type": "execute_result"
    }
   ],
   "source": [
    "images"
   ]
  },
  {
   "cell_type": "code",
   "execution_count": 131,
   "id": "informed-explorer",
   "metadata": {},
   "outputs": [],
   "source": [
    "frames = [Image.open(image) for image in images]"
   ]
  },
  {
   "cell_type": "code",
   "execution_count": 132,
   "id": "sophisticated-dressing",
   "metadata": {},
   "outputs": [],
   "source": [
    "frame_one = frames[0]"
   ]
  },
  {
   "cell_type": "code",
   "execution_count": 133,
   "id": "micro-young",
   "metadata": {},
   "outputs": [],
   "source": [
    "frame_one.save(\"../../data/eat_it_text_gif/a_message_from_the_executive_director_of_nipple_inspection.gif\", format=\"GIF\", append_images=frames, save_all=True, duration=60, loop=0)"
   ]
  },
  {
   "cell_type": "code",
   "execution_count": 135,
   "id": "earlier-arthur",
   "metadata": {},
   "outputs": [],
   "source": [
    "resize_gif(\"../../data/eat_it_text_gif/a_message_from_the_executive_director_of_nipple_inspection.gif\", \n",
    "           save_as=\"../../data/eat_it_text_gif/a_message_from_the_executive_director_of_nipple_inspection_resize.gif\", resize_to=None)"
   ]
  },
  {
   "cell_type": "code",
   "execution_count": 134,
   "id": "herbal-translator",
   "metadata": {},
   "outputs": [],
   "source": [
    "# We'll want to write our own version of this to ensure we can email gifs \n",
    "def resize_gif(path, save_as=None, resize_to=None):\n",
    "    \"\"\"\n",
    "    Resizes the GIF to a given length:\n",
    "\n",
    "    Args:\n",
    "        path: the path to the GIF file\n",
    "        save_as (optional): Path of the resized gif. If not set, the original gif will be overwritten.\n",
    "        resize_to (optional): new size of the gif. Format: (int, int). If not set, the original GIF will be resized to\n",
    "                              half of its size.\n",
    "    \"\"\"\n",
    "    all_frames = extract_and_resize_frames(path, resize_to)\n",
    "\n",
    "    if not save_as:\n",
    "        save_as = path\n",
    "\n",
    "    if len(all_frames) == 1:\n",
    "        print(\"Warning: only 1 frame found\")\n",
    "        all_frames[0].save(save_as, optimize=True)\n",
    "    else:\n",
    "        all_frames[0].save(save_as, optimize=True, save_all=True, append_images=all_frames[1:], loop=1000)\n",
    "\n",
    "\n",
    "def analyseImage(path):\n",
    "    \"\"\"\n",
    "    Pre-process pass over the image to determine the mode (full or additive).\n",
    "    Necessary as assessing single frames isn't reliable. Need to know the mode\n",
    "    before processing all frames.\n",
    "    \"\"\"\n",
    "    im = Image.open(path)\n",
    "    results = {\n",
    "        'size': im.size,\n",
    "        'mode': 'full',\n",
    "    }\n",
    "    try:\n",
    "        while True:\n",
    "            if im.tile:\n",
    "                tile = im.tile[0]\n",
    "                update_region = tile[1]\n",
    "                update_region_dimensions = update_region[2:]\n",
    "                if update_region_dimensions != im.size:\n",
    "                    results['mode'] = 'partial'\n",
    "                    break\n",
    "            im.seek(im.tell() + 1)\n",
    "    except EOFError:\n",
    "        pass\n",
    "    return results\n",
    "\n",
    "\n",
    "def extract_and_resize_frames(path, resize_to=None):\n",
    "    \"\"\"\n",
    "    Iterate the GIF, extracting each frame and resizing them\n",
    "\n",
    "    Returns:\n",
    "        An array of all frames\n",
    "    \"\"\"\n",
    "    mode = analyseImage(path)['mode']\n",
    "\n",
    "    im = Image.open(path)\n",
    "\n",
    "    if not resize_to:\n",
    "        resize_to = (im.size[0] // 2, im.size[1] // 2)\n",
    "\n",
    "    i = 0\n",
    "    p = im.getpalette()\n",
    "    last_frame = im.convert('RGBA')\n",
    "\n",
    "    all_frames = []\n",
    "\n",
    "    try:\n",
    "        while True:\n",
    "            # print(\"saving %s (%s) frame %d, %s %s\" % (path, mode, i, im.size, im.tile))\n",
    "\n",
    "            '''\n",
    "            If the GIF uses local colour tables, each frame will have its own palette.\n",
    "            If not, we need to apply the global palette to the new frame.\n",
    "            '''\n",
    "            if not im.getpalette():\n",
    "                im.putpalette(p)\n",
    "\n",
    "            new_frame = Image.new('RGBA', im.size)\n",
    "\n",
    "            '''\n",
    "            Is this file a \"partial\"-mode GIF where frames update a region of a different size to the entire image?\n",
    "            If so, we need to construct the new frame by pasting it on top of the preceding frames.\n",
    "            '''\n",
    "            if mode == 'partial':\n",
    "                new_frame.paste(last_frame)\n",
    "\n",
    "            new_frame.paste(im, (0, 0), im.convert('RGBA'))\n",
    "\n",
    "            new_frame.thumbnail(resize_to, Image.ANTIALIAS)\n",
    "            all_frames.append(new_frame)\n",
    "\n",
    "            i += 1\n",
    "            last_frame = new_frame\n",
    "            im.seek(im.tell() + 1)\n",
    "    except EOFError:\n",
    "        pass\n",
    "\n",
    "    return all_frames"
   ]
  },
  {
   "cell_type": "code",
   "execution_count": null,
   "id": "macro-distinction",
   "metadata": {},
   "outputs": [],
   "source": []
  }
 ],
 "metadata": {
  "kernelspec": {
   "display_name": "Python [conda env:pygame_env]",
   "language": "python",
   "name": "conda-env-pygame_env-py"
  },
  "language_info": {
   "codemirror_mode": {
    "name": "ipython",
    "version": 3
   },
   "file_extension": ".py",
   "mimetype": "text/x-python",
   "name": "python",
   "nbconvert_exporter": "python",
   "pygments_lexer": "ipython3",
   "version": "3.7.9"
  }
 },
 "nbformat": 4,
 "nbformat_minor": 5
}
